{
  "nbformat": 4,
  "nbformat_minor": 0,
  "metadata": {
    "colab": {
      "provenance": [],
      "gpuType": "T4",
      "mount_file_id": "1ETYZTFj41iWlg9kj7eI0CqG48z-5OEzd",
      "authorship_tag": "ABX9TyN2UGL9nGjT9Z5tC6KabEwd",
      "include_colab_link": true
    },
    "kernelspec": {
      "name": "python3",
      "display_name": "Python 3"
    },
    "language_info": {
      "name": "python"
    },
    "accelerator": "GPU"
  },
  "cells": [
    {
      "cell_type": "markdown",
      "metadata": {
        "id": "view-in-github",
        "colab_type": "text"
      },
      "source": [
        "<a href=\"https://colab.research.google.com/github/pransverse/ARK-selections/blob/main/TASK5/TASK5.ipynb\" target=\"_parent\"><img src=\"https://colab.research.google.com/assets/colab-badge.svg\" alt=\"Open In Colab\"/></a>"
      ]
    },
    {
      "cell_type": "code",
      "execution_count": 1,
      "metadata": {
        "id": "9kRLSAbHPRX6",
        "colab": {
          "base_uri": "https://localhost:8080/"
        },
        "outputId": "ccd436b3-928f-4fd2-ad92-5405744fb8a5"
      },
      "outputs": [
        {
          "output_type": "execute_result",
          "data": {
            "text/plain": [
              "('2.0.1+cu118', '0.15.2+cu118')"
            ]
          },
          "metadata": {},
          "execution_count": 1
        }
      ],
      "source": [
        "import torch\n",
        "from torch import nn\n",
        "from torch.utils.data import DataLoader\n",
        "\n",
        "import torchvision\n",
        "from torchvision import transforms\n",
        "from torchvision import datasets\n",
        "from torchvision.transforms import ToTensor\n",
        "\n",
        "import xml.etree.ElementTree as et\n",
        "\n",
        "import matplotlib.pyplot as plt\n",
        "torch.__version__, torchvision.__version__"
      ]
    },
    {
      "cell_type": "code",
      "source": [
        "from google.colab import drive\n",
        "drive.mount('/content/drive')"
      ],
      "metadata": {
        "colab": {
          "base_uri": "https://localhost:8080/"
        },
        "id": "Rqrd1j-VKCn6",
        "outputId": "264ef730-b486-4cc1-cc4e-c84cf5fde0dd"
      },
      "execution_count": 2,
      "outputs": [
        {
          "output_type": "stream",
          "name": "stdout",
          "text": [
            "Drive already mounted at /content/drive; to attempt to forcibly remount, call drive.mount(\"/content/drive\", force_remount=True).\n"
          ]
        }
      ]
    },
    {
      "cell_type": "code",
      "source": [
        "import os\n",
        "import glob\n",
        "from PIL import Image"
      ],
      "metadata": {
        "id": "PwGBACrwbAJK"
      },
      "execution_count": 3,
      "outputs": []
    },
    {
      "cell_type": "code",
      "source": [
        "class Dataset(torch.utils.data.Dataset):\n",
        "  def __init__(self, dataset_path, transforms=None):\n",
        "    self.root_path = dataset_path\n",
        "    self.files = glob.glob(self.root_path+\"/*.xml\")\n",
        "    self.transforms = transforms\n",
        "  def __len__(self):\n",
        "    return len(self.files)\n",
        "  def __getitem__(self, idx):\n",
        "    xml_path = os.path.join(self.root_path, self.files[idx])\n",
        "    root = et.parse(xml_path).getroot()\n",
        "    xmin = int(int(root.find(\"object\").find(\"bndbox\").find(\"xmin\").text)/4)\n",
        "    ymin = int(int(root.find(\"object\").find(\"bndbox\").find(\"ymin\").text)/2)\n",
        "    xmax = int(int(root.find(\"object\").find(\"bndbox\").find(\"xmax\").text)/4)\n",
        "    ymax = int(int(root.find(\"object\").find(\"bndbox\").find(\"ymax\").text)/2)\n",
        "    img = Image.open(os.path.join(self.root_path, root.find(\"filename\").text))\n",
        "    if transforms:\n",
        "      img = self.transforms(img)\n",
        "    anotation = {\"xmin\":xmin,\"ymin\":ymin,\"xmax\":xmax,\"ymax\":ymax, \"file_path\":os.path.join(self.root_path, root.find(\"filename\").text)}\n",
        "    return img, anotation"
      ],
      "metadata": {
        "id": "OTs7iZTumeD6"
      },
      "execution_count": 4,
      "outputs": []
    },
    {
      "cell_type": "code",
      "source": [
        "img_transforms = transforms.Compose([\n",
        "                                    transforms.Resize((416,416)),\n",
        "                                    transforms.ToTensor(),\n",
        "                                    transforms.Normalize(mean = 0.5, std = 0.2)\n",
        "                                    ])"
      ],
      "metadata": {
        "id": "CN9tyKeP2oY2"
      },
      "execution_count": 5,
      "outputs": []
    },
    {
      "cell_type": "code",
      "source": [
        "dataset = Dataset(\"/content/drive/MyDrive/images\", img_transforms)"
      ],
      "metadata": {
        "id": "DU1DioyU3bbh"
      },
      "execution_count": 6,
      "outputs": []
    },
    {
      "cell_type": "code",
      "source": [
        "dataset_len = len(dataset)\n",
        "train_len = int(dataset_len*0.7)\n",
        "test_len = int((dataset_len - train_len)*1/3)\n",
        "val_len = dataset_len - train_len - test_len\n",
        "train_dataset, test_dataset, val_dataset = torch.utils.data.random_split(dataset, [train_len, test_len, val_len])"
      ],
      "metadata": {
        "id": "ef89_pj_6oHv"
      },
      "execution_count": 7,
      "outputs": []
    },
    {
      "cell_type": "code",
      "source": [
        "BATCH_SIZE = 100\n",
        "train_loader = DataLoader(train_dataset, batch_size=BATCH_SIZE, pin_memory=True)\n",
        "test_loader = DataLoader(test_dataset, batch_size=BATCH_SIZE, pin_memory=True)\n",
        "val_loader = DataLoader(val_dataset, batch_size=BATCH_SIZE, pin_memory=True)"
      ],
      "metadata": {
        "id": "F1ZOf_1V7-uY"
      },
      "execution_count": 8,
      "outputs": []
    },
    {
      "cell_type": "code",
      "source": [
        "class Model(nn.Module):\n",
        "    def __init__(self, input):\n",
        "        super(Model, self).__init__()\n",
        "        # Feature Extraction\n",
        "        self.feature_extractor = nn.Sequential(\n",
        "            nn.Conv2d(3, 3, 3, stride=1, padding=1),  # b, 32, 416, 416\n",
        "            nn.ReLU(True),\n",
        "            nn.MaxPool2d(2, stride=2),  # b, 16, 208, 208\n",
        "            nn.Conv2d(3, 8, 3, stride=1, padding=1),  # b, 16, 208, 208\n",
        "            nn.ReLU(True),\n",
        "            nn.Conv2d(8, 8, 3, stride=1, padding=1),  # b, 16, 208, 208\n",
        "            nn.ReLU(True),\n",
        "            nn.MaxPool2d(2, stride=2),  # b, 16, 104, 104\n",
        "        )\n",
        "        # Inner Representation\n",
        "        self.inner = nn.Sequential(\n",
        "            nn.Conv2d(8, 16, 3, stride=1, padding=1),  # b, 16, 104, 104\n",
        "            nn.ReLU(True),\n",
        "            nn.Conv2d(16, 1, 3, stride=1, padding=1),  # b, 1, 104, 104\n",
        "            nn.ReLU(True),\n",
        "            nn.MaxPool2d(2, stride=2),  # b, 1, 52, 52\n",
        "        )\n",
        "        # Bbox Extraction\n",
        "        self.bbox = nn.Sequential(\n",
        "            nn.Flatten(),\n",
        "            nn.Linear(2704, 1352),\n",
        "            nn.ReLU()\n",
        "        )\n",
        "        self.bbox_xmin =  nn.Sequential(\n",
        "            nn.Linear(1352, 1),\n",
        "            nn.Sigmoid()\n",
        "        )\n",
        "        self.bbox_ymin =  nn.Sequential(\n",
        "            nn.Linear(1352, 1),\n",
        "            nn.Sigmoid()\n",
        "        )\n",
        "        self.bbox_xmax =  nn.Sequential(\n",
        "            nn.Linear(1352, 1),\n",
        "            nn.Sigmoid()\n",
        "        )\n",
        "        self.bbox_ymax =  nn.Sequential(\n",
        "            nn.Linear(1352, 1),\n",
        "            nn.Sigmoid()\n",
        "        )\n",
        "\n",
        "    def forward(self, x):\n",
        "        ft_ex = self.feature_extractor(x)\n",
        "        in_rep = self.inner(ft_ex)\n",
        "        bbox_part = self.bbox(in_rep)\n",
        "        bbox_xmin = self.bbox_xmin(bbox_part)\n",
        "        bbox_ymin = self.bbox_ymin(bbox_part)\n",
        "        bbox_xmax = self.bbox_xmax(bbox_part)\n",
        "        bbox_ymax = self.bbox_ymax(bbox_part)\n",
        "        return (bbox_xmin, bbox_ymin, bbox_xmax, bbox_ymax)"
      ],
      "metadata": {
        "id": "fRJNoH-8147i"
      },
      "execution_count": 12,
      "outputs": []
    },
    {
      "cell_type": "code",
      "source": [
        "model = Model((3,416,416)).cuda()"
      ],
      "metadata": {
        "id": "7jC82ehE8TqU"
      },
      "execution_count": 13,
      "outputs": []
    },
    {
      "cell_type": "code",
      "source": [
        "import cv2\n",
        "test_image = cv2.imread(\"/content/drive/MyDrive/images/53.png\")"
      ],
      "metadata": {
        "id": "9LbRXVLM9ECD"
      },
      "execution_count": 14,
      "outputs": []
    },
    {
      "cell_type": "code",
      "source": [
        "model.forward(test_image)"
      ],
      "metadata": {
        "id": "BqZXQX1j-ThE"
      },
      "execution_count": null,
      "outputs": []
    }
  ]
}