{
  "nbformat": 4,
  "nbformat_minor": 0,
  "metadata": {
    "colab": {
      "provenance": [],
      "authorship_tag": "ABX9TyPFthxUMA91TY0A5Ii1LlFC",
      "include_colab_link": true
    },
    "kernelspec": {
      "name": "python3",
      "display_name": "Python 3"
    },
    "language_info": {
      "name": "python"
    }
  },
  "cells": [
    {
      "cell_type": "markdown",
      "metadata": {
        "id": "view-in-github",
        "colab_type": "text"
      },
      "source": [
        "<a href=\"https://colab.research.google.com/github/pransverse/ARK-selections/blob/main/TASK2/TASK2.ipynb\" target=\"_parent\"><img src=\"https://colab.research.google.com/assets/colab-badge.svg\" alt=\"Open In Colab\"/></a>"
      ]
    },
    {
      "cell_type": "code",
      "execution_count": null,
      "metadata": {
        "id": "dBMarWfZywh1"
      },
      "outputs": [],
      "source": [
        "class VendingMachine:\n",
        "  def __init__(self):\n",
        "    self.states = {\n",
        "        'IDLE' : self.idle_state,\n",
        "        'CHOOSE_DRINK' : self.choose_drink_state,\n",
        "        'INSERT_MONEY' : self.insert_money_state,\n",
        "        'RETURN_CHANGE' : self.return_change_state,\n",
        "        'DISPENSE_DRINK': self.dispense_drink_state,\n",
        "        'REFILL' : self.refill_state\n",
        "    }\n",
        "    self.juices = {\n",
        "        'PEPS': {'name': 'Pepsi', 'price': 30, 'stock': 1},\n",
        "        'MDEW': {'name': 'Mountain Dew', 'price': 30, 'stock': 0},\n",
        "        'DPEP': {'name': 'Dr. Pepper', 'price': 50, 'stock': 0},\n",
        "        'COKE': {'name': 'Coke', 'price': 20, 'stock': 0},\n",
        "        'GATO': {'name': 'Gatorade', 'price': 20, 'stock': 0},\n",
        "        'DCOK': {'name': 'Diet Coke', 'price': 30, 'stock': 0},\n",
        "        'MINM': {'name': 'Minute Maid', 'price': 25, 'stock': 0},\n",
        "        'TROP': {'name': 'Tropicana', 'price': 30, 'stock': 1}\n",
        "    }\n",
        "    self.current_state = 'IDLE'\n",
        "    self.drink = None\n",
        "    self.money = 0\n",
        "\n",
        "  def run(self):\n",
        "    while True:\n",
        "      self.states[self.current_state]()\n",
        "\n",
        "  def idle_state(self):\n",
        "    #print all drinks\n",
        "    print(\"\\n\")\n",
        "    print('Available drinks:')\n",
        "    print('CODE - NAME - COST (in Rs.)')\n",
        "    print(\"--\"*20)\n",
        "    for code, juice in self.juices.items():\n",
        "      print(code, '-', juice['name'], juice['price'])\n",
        "    self.current_state = 'CHOOSE_DRINK'\n",
        "    for drink in self.juices:\n",
        "      if self.juices[drink]['stock'] != 0:\n",
        "        break\n",
        "    else:\n",
        "      self.current_state = 'REFILL'\n",
        "\n",
        "  def choose_drink_state(self):\n",
        "    drink = input(\"\\nEnter code of the drink you want to buy: \")\n",
        "    if drink not in self.juices:\n",
        "      print(\"Invalid code entered. Please enter a valid code.\")\n",
        "    elif self.juices[drink]['stock'] == 0:\n",
        "      print(\"Sorry, this drink is out of stock. Pick another one.\")\n",
        "    else:\n",
        "      self.drink = drink\n",
        "      self.current_state = 'INSERT_MONEY'\n",
        "\n",
        "  def insert_money_state(self):\n",
        "    price = self.juices[self.drink]['price']\n",
        "    print(\"\\nYour drink costs Rs.\", price)\n",
        "    self.money = int(input(\"Write the amount you are entering: Rs.\"))\n",
        "    if self.money < price:\n",
        "      print(\"Insufficient amount entered. Please try again.\")\n",
        "    else:\n",
        "      self.money -= price\n",
        "      if (self.money > 0):\n",
        "        self.current_state = 'RETURN_CHANGE'\n",
        "      else:\n",
        "        self.current_state = 'DISPENSE_DRINK'\n",
        "\n",
        "  def return_change_state(self):\n",
        "    print(\"Returning change of Rs. \", self.money)\n",
        "    self.money = 0\n",
        "    self.current_state = 'DISPENSE_DRINK'\n",
        "\n",
        "  def dispense_drink_state(self):\n",
        "    print(\"\\nDispensing: \", self.juices[self.drink]['name'])\n",
        "    self.juices[self.drink]['stock'] -= 1\n",
        "    print(\"Enjoy your drink!\")\n",
        "    self.drink = None\n",
        "    self.current_state = 'IDLE'\n",
        "\n",
        "  def refill_state(self):\n",
        "    print(\"\\nAll drinks are out of stock. Please enter 'REFILL' to refill\")\n",
        "    refill = input(\"\")\n",
        "    if (refill == 'REFILL'):\n",
        "      for drink in self.juices:\n",
        "        self.juices[drink]['stock'] = 50\n",
        "      print(\"All drinks have been restocked!\")\n",
        "    self.current_state = 'IDLE'\n"
      ]
    },
    {
      "cell_type": "code",
      "source": [
        "vendingmachine = VendingMachine()\n",
        "vendingmachine.run()"
      ],
      "metadata": {
        "id": "IBw5QMHwoz1G"
      },
      "execution_count": null,
      "outputs": []
    }
  ]
}